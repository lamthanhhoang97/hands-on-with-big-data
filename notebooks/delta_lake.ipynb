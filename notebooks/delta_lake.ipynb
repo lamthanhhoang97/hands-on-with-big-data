{
 "cells": [
  {
   "cell_type": "markdown",
   "id": "15143da2",
   "metadata": {},
   "source": [
    "# Table of Contents\n",
    "\n",
    "[Import library](#import-libray)\n",
    "\n",
    "[Start Spark](#spark-session)\n",
    "\n",
    "[Staging customer dim](#stg_customer_dim)"
   ]
  },
  {
   "cell_type": "markdown",
   "id": "4a4cac6f",
   "metadata": {},
   "source": [
    "# Import libray"
   ]
  },
  {
   "cell_type": "code",
   "execution_count": 1,
   "id": "4a6508be",
   "metadata": {},
   "outputs": [],
   "source": [
    "import os"
   ]
  },
  {
   "cell_type": "code",
   "execution_count": 2,
   "id": "6ca84abc",
   "metadata": {},
   "outputs": [],
   "source": [
    "os.environ['HADOOP_USER_NAME'] = 'hadoopuser'\n",
    "os.environ['PYSPARK_SUBMIT_ARGS'] = '--packages io.delta:delta-spark_2.12:3.3.0,org.apache.hadoop:hadoop-aws:3.3.4 pyspark-shell'"
   ]
  },
  {
   "cell_type": "code",
   "execution_count": 3,
   "id": "7f3debf3",
   "metadata": {},
   "outputs": [],
   "source": [
    "import pyspark\n",
    "import glob\n",
    "\n",
    "from delta import *\n",
    "\n",
    "from delta.tables import DeltaTable\n",
    "from pyspark.sql.types import *\n",
    "from pyspark.sql.functions import *\n",
    "from pprint import pprint"
   ]
  },
  {
   "cell_type": "markdown",
   "id": "9fd63940",
   "metadata": {},
   "source": [
    "# Spark session"
   ]
  },
  {
   "cell_type": "code",
   "execution_count": 4,
   "id": "7e10daa6",
   "metadata": {},
   "outputs": [
    {
     "name": "stdout",
     "output_type": "stream",
     "text": [
      ":: loading settings :: url = jar:file:/home/ad/Desktop/code/big-data-tools/venv/lib/python3.12/site-packages/pyspark/jars/ivy-2.5.1.jar!/org/apache/ivy/core/settings/ivysettings.xml\n"
     ]
    },
    {
     "name": "stderr",
     "output_type": "stream",
     "text": [
      "Ivy Default Cache set to: /home/ad/.ivy2/cache\n",
      "The jars for the packages stored in: /home/ad/.ivy2/jars\n",
      "io.delta#delta-spark_2.12 added as a dependency\n",
      "org.apache.hadoop#hadoop-aws added as a dependency\n",
      ":: resolving dependencies :: org.apache.spark#spark-submit-parent-e2a8fbd6-2884-4ea4-93fa-514e22a73e77;1.0\n",
      "\tconfs: [default]\n",
      "\tfound io.delta#delta-spark_2.12;3.3.0 in central\n",
      "\tfound io.delta#delta-storage;3.3.0 in central\n",
      "\tfound org.antlr#antlr4-runtime;4.9.3 in central\n",
      "\tfound org.apache.hadoop#hadoop-aws;3.3.4 in central\n",
      "\tfound com.amazonaws#aws-java-sdk-bundle;1.12.262 in central\n",
      "\tfound org.wildfly.openssl#wildfly-openssl;1.0.7.Final in central\n",
      ":: resolution report :: resolve 90ms :: artifacts dl 3ms\n",
      "\t:: modules in use:\n",
      "\tcom.amazonaws#aws-java-sdk-bundle;1.12.262 from central in [default]\n",
      "\tio.delta#delta-spark_2.12;3.3.0 from central in [default]\n",
      "\tio.delta#delta-storage;3.3.0 from central in [default]\n",
      "\torg.antlr#antlr4-runtime;4.9.3 from central in [default]\n",
      "\torg.apache.hadoop#hadoop-aws;3.3.4 from central in [default]\n",
      "\torg.wildfly.openssl#wildfly-openssl;1.0.7.Final from central in [default]\n",
      "\t---------------------------------------------------------------------\n",
      "\t|                  |            modules            ||   artifacts   |\n",
      "\t|       conf       | number| search|dwnlded|evicted|| number|dwnlded|\n",
      "\t---------------------------------------------------------------------\n",
      "\t|      default     |   6   |   0   |   0   |   0   ||   6   |   0   |\n",
      "\t---------------------------------------------------------------------\n",
      ":: retrieving :: org.apache.spark#spark-submit-parent-e2a8fbd6-2884-4ea4-93fa-514e22a73e77\n",
      "\tconfs: [default]\n",
      "\t0 artifacts copied, 6 already retrieved (0kB/3ms)\n",
      "25/05/23 15:34:50 WARN NativeCodeLoader: Unable to load native-hadoop library for your platform... using builtin-java classes where applicable\n",
      "Setting default log level to \"WARN\".\n",
      "To adjust logging level use sc.setLogLevel(newLevel). For SparkR, use setLogLevel(newLevel).\n"
     ]
    }
   ],
   "source": [
    "builder = (\n",
    "    pyspark\n",
    "    .sql.SparkSession.builder\n",
    "    .config(\"spark.sql.extensions\", \"io.delta.sql.DeltaSparkSessionExtension\")\n",
    "    .config(\"spark.sql.catalog.spark_catalog\", \"org.apache.spark.sql.delta.catalog.DeltaCatalog\")\n",
    "    # MinIO\n",
    "    .config(\"spark.hadoop.fs.s3a.endpoint\", \"http://localhost:29000\") \\\n",
    "    .config(\"spark.hadoop.fs.s3a.access.key\", \"lLZ6r6vDyQvxq5WaTJ9w\")\n",
    "    .config(\"spark.hadoop.fs.s3a.secret.key\", \"WkxauVOq61tg0DnFQNSNnI8TbKfl9qxHBK3zILZ8\")\n",
    "    .config(\"spark.hadoop.fs.s3a.path.style.access\", \"true\") \\\n",
    "    .config(\"spark.hadoop.fs.s3a.impl\", \"org.apache.hadoop.fs.s3a.S3AFileSystem\")\n",
    "    .config(\"spark.hadoop.fs.s3a.connection.ssl.enabled\", \"false\")\n",
    "    # Logging\n",
    "    # .config(\"spark.log.level\", \"DEBUG\")\n",
    ")\n",
    "\n",
    "spark = configure_spark_with_delta_pip(builder).getOrCreate()\n",
    "sc = spark.sparkContext # spark context"
   ]
  },
  {
   "cell_type": "code",
   "execution_count": 13,
   "id": "200d4f8b",
   "metadata": {},
   "outputs": [
    {
     "name": "stdout",
     "output_type": "stream",
     "text": [
      "+-------+-------------------+------+--------+---------+-----------------------------------+----+--------+---------+-----------+--------------+-------------+----------------------------------------------------------------+------------+-----------------------------------+\n",
      "|version|timestamp          |userId|userName|operation|operationParameters                |job |notebook|clusterId|readVersion|isolationLevel|isBlindAppend|operationMetrics                                                |userMetadata|engineInfo                         |\n",
      "+-------+-------------------+------+--------+---------+-----------------------------------+----+--------+---------+-----------+--------------+-------------+----------------------------------------------------------------+------------+-----------------------------------+\n",
      "|200    |2025-05-21 11:12:48|NULL  |NULL    |WRITE    |{mode -> Append, partitionBy -> []}|NULL|NULL    |NULL     |199        |Serializable  |true         |{numFiles -> 1, numOutputRows -> 1003, numOutputBytes -> 103577}|NULL        |Apache-Spark/3.5.5 Delta-Lake/3.3.0|\n",
      "|199    |2025-05-21 11:12:47|NULL  |NULL    |WRITE    |{mode -> Append, partitionBy -> []}|NULL|NULL    |NULL     |198        |Serializable  |true         |{numFiles -> 1, numOutputRows -> 5000, numOutputBytes -> 453010}|NULL        |Apache-Spark/3.5.5 Delta-Lake/3.3.0|\n",
      "|198    |2025-05-21 11:12:45|NULL  |NULL    |WRITE    |{mode -> Append, partitionBy -> []}|NULL|NULL    |NULL     |197        |Serializable  |true         |{numFiles -> 1, numOutputRows -> 5000, numOutputBytes -> 454325}|NULL        |Apache-Spark/3.5.5 Delta-Lake/3.3.0|\n",
      "|197    |2025-05-21 11:12:44|NULL  |NULL    |WRITE    |{mode -> Append, partitionBy -> []}|NULL|NULL    |NULL     |196        |Serializable  |true         |{numFiles -> 1, numOutputRows -> 5000, numOutputBytes -> 452204}|NULL        |Apache-Spark/3.5.5 Delta-Lake/3.3.0|\n",
      "|196    |2025-05-21 11:12:43|NULL  |NULL    |WRITE    |{mode -> Append, partitionBy -> []}|NULL|NULL    |NULL     |195        |Serializable  |true         |{numFiles -> 1, numOutputRows -> 5000, numOutputBytes -> 453156}|NULL        |Apache-Spark/3.5.5 Delta-Lake/3.3.0|\n",
      "|195    |2025-05-21 11:12:41|NULL  |NULL    |WRITE    |{mode -> Append, partitionBy -> []}|NULL|NULL    |NULL     |194        |Serializable  |true         |{numFiles -> 1, numOutputRows -> 5000, numOutputBytes -> 453010}|NULL        |Apache-Spark/3.5.5 Delta-Lake/3.3.0|\n",
      "|194    |2025-05-21 11:12:40|NULL  |NULL    |WRITE    |{mode -> Append, partitionBy -> []}|NULL|NULL    |NULL     |193        |Serializable  |true         |{numFiles -> 1, numOutputRows -> 5000, numOutputBytes -> 454195}|NULL        |Apache-Spark/3.5.5 Delta-Lake/3.3.0|\n",
      "|193    |2025-05-21 11:12:39|NULL  |NULL    |WRITE    |{mode -> Append, partitionBy -> []}|NULL|NULL    |NULL     |192        |Serializable  |true         |{numFiles -> 1, numOutputRows -> 5000, numOutputBytes -> 452050}|NULL        |Apache-Spark/3.5.5 Delta-Lake/3.3.0|\n",
      "|192    |2025-05-21 11:12:37|NULL  |NULL    |WRITE    |{mode -> Append, partitionBy -> []}|NULL|NULL    |NULL     |191        |Serializable  |true         |{numFiles -> 1, numOutputRows -> 5000, numOutputBytes -> 455264}|NULL        |Apache-Spark/3.5.5 Delta-Lake/3.3.0|\n",
      "|191    |2025-05-21 11:12:36|NULL  |NULL    |WRITE    |{mode -> Append, partitionBy -> []}|NULL|NULL    |NULL     |190        |Serializable  |true         |{numFiles -> 1, numOutputRows -> 5000, numOutputBytes -> 453594}|NULL        |Apache-Spark/3.5.5 Delta-Lake/3.3.0|\n",
      "|190    |2025-05-21 11:12:33|NULL  |NULL    |WRITE    |{mode -> Append, partitionBy -> []}|NULL|NULL    |NULL     |189        |Serializable  |true         |{numFiles -> 1, numOutputRows -> 5000, numOutputBytes -> 453265}|NULL        |Apache-Spark/3.5.5 Delta-Lake/3.3.0|\n",
      "|189    |2025-05-21 11:12:32|NULL  |NULL    |WRITE    |{mode -> Append, partitionBy -> []}|NULL|NULL    |NULL     |188        |Serializable  |true         |{numFiles -> 1, numOutputRows -> 5000, numOutputBytes -> 455437}|NULL        |Apache-Spark/3.5.5 Delta-Lake/3.3.0|\n",
      "|188    |2025-05-21 11:12:31|NULL  |NULL    |WRITE    |{mode -> Append, partitionBy -> []}|NULL|NULL    |NULL     |187        |Serializable  |true         |{numFiles -> 1, numOutputRows -> 5000, numOutputBytes -> 453924}|NULL        |Apache-Spark/3.5.5 Delta-Lake/3.3.0|\n",
      "|187    |2025-05-21 11:12:29|NULL  |NULL    |WRITE    |{mode -> Append, partitionBy -> []}|NULL|NULL    |NULL     |186        |Serializable  |true         |{numFiles -> 1, numOutputRows -> 5000, numOutputBytes -> 453508}|NULL        |Apache-Spark/3.5.5 Delta-Lake/3.3.0|\n",
      "|186    |2025-05-21 11:12:28|NULL  |NULL    |WRITE    |{mode -> Append, partitionBy -> []}|NULL|NULL    |NULL     |185        |Serializable  |true         |{numFiles -> 1, numOutputRows -> 5000, numOutputBytes -> 455689}|NULL        |Apache-Spark/3.5.5 Delta-Lake/3.3.0|\n",
      "|185    |2025-05-21 11:12:27|NULL  |NULL    |WRITE    |{mode -> Append, partitionBy -> []}|NULL|NULL    |NULL     |184        |Serializable  |true         |{numFiles -> 1, numOutputRows -> 5000, numOutputBytes -> 453267}|NULL        |Apache-Spark/3.5.5 Delta-Lake/3.3.0|\n",
      "|184    |2025-05-21 11:12:25|NULL  |NULL    |WRITE    |{mode -> Append, partitionBy -> []}|NULL|NULL    |NULL     |183        |Serializable  |true         |{numFiles -> 1, numOutputRows -> 5000, numOutputBytes -> 455121}|NULL        |Apache-Spark/3.5.5 Delta-Lake/3.3.0|\n",
      "|183    |2025-05-21 11:12:24|NULL  |NULL    |WRITE    |{mode -> Append, partitionBy -> []}|NULL|NULL    |NULL     |182        |Serializable  |true         |{numFiles -> 1, numOutputRows -> 5000, numOutputBytes -> 455544}|NULL        |Apache-Spark/3.5.5 Delta-Lake/3.3.0|\n",
      "|182    |2025-05-21 11:12:23|NULL  |NULL    |WRITE    |{mode -> Append, partitionBy -> []}|NULL|NULL    |NULL     |181        |Serializable  |true         |{numFiles -> 1, numOutputRows -> 5000, numOutputBytes -> 453111}|NULL        |Apache-Spark/3.5.5 Delta-Lake/3.3.0|\n",
      "|181    |2025-05-21 11:12:21|NULL  |NULL    |WRITE    |{mode -> Append, partitionBy -> []}|NULL|NULL    |NULL     |180        |Serializable  |true         |{numFiles -> 1, numOutputRows -> 5000, numOutputBytes -> 452763}|NULL        |Apache-Spark/3.5.5 Delta-Lake/3.3.0|\n",
      "+-------+-------------------+------+--------+---------+-----------------------------------+----+--------+---------+-----------+--------------+-------------+----------------------------------------------------------------+------------+-----------------------------------+\n",
      "only showing top 20 rows\n",
      "\n"
     ]
    }
   ],
   "source": [
    "DeltaTable.forPath(\n",
    "    spark, \n",
    "    \"s3a://cdc-events/raw-supplier-cdc/\"\n",
    ").history().show(truncate=False)"
   ]
  },
  {
   "cell_type": "markdown",
   "id": "ab68262c",
   "metadata": {},
   "source": [
    "# raw_supplier"
   ]
  },
  {
   "cell_type": "code",
   "execution_count": 5,
   "id": "1d6d895e",
   "metadata": {},
   "outputs": [
    {
     "name": "stderr",
     "output_type": "stream",
     "text": [
      "25/05/23 15:34:52 WARN MetricsConfig: Cannot locate configuration: tried hadoop-metrics2-s3a-file-system.properties,hadoop-metrics2.properties\n"
     ]
    }
   ],
   "source": [
    "raw_supplier_dt = DeltaTable.forPath(spark, 's3a://cdc-events/raw-supplier')"
   ]
  },
  {
   "cell_type": "code",
   "execution_count": 6,
   "id": "8fa1c254",
   "metadata": {},
   "outputs": [
    {
     "name": "stderr",
     "output_type": "stream",
     "text": [
      "[Stage 1:=============================>                             (2 + 2) / 4]\r"
     ]
    },
    {
     "name": "stdout",
     "output_type": "stream",
     "text": [
      "+---------+-------------------------+----------------------------------------+---------------+---------+-------------------------+-------------+-------------------+-------------+-------------------+-----------+--------+----------------+---------------+-----------------------+\n",
      "|s_suppkey|s_name                   |s_address                               |s_phone        |s_acctbal|s_nationkey              |ts_ms        |create_ts          |delete_ts_ms |delete_ts          |lsn        |batch_id|_change_type    |_commit_version|_commit_timestamp      |\n",
      "+---------+-------------------------+----------------------------------------+---------------+---------+-------------------------+-------------+-------------------+-------------+-------------------+-----------+--------+----------------+---------------+-----------------------+\n",
      "|1000001  |New Supplier             |Ho Chi Minh city, Viet Nam              |27-918-335-1736|2049.4   |17                       |1747647591782|2025-05-19 16:39:51|NULL         |NULL               |83365704944|200     |update_preimage |3              |2025-05-21 16:10:52.308|\n",
      "|1000001  |New Supplier             |Ho Chi Minh city, Viet Nam              |27-918-335-1736|2049.4   |17                       |1747647591782|2025-05-19 16:39:51|1747647623499|2025-05-19 16:40:23|83365704944|200     |update_postimage|3              |2025-05-21 16:10:52.308|\n",
      "|1000001  |NULL                     |NULL                                    |NULL           |NULL     |NULL                     |1747647623499|2025-05-19 16:40:23|NULL         |NULL               |83365714760|200     |update_preimage |3              |2025-05-21 16:10:52.308|\n",
      "|1000001  |NULL                     |NULL                                    |NULL           |NULL     |NULL                     |1747647623499|2025-05-19 16:40:23|1747647623499|2025-05-19 16:40:23|83365714760|200     |update_postimage|3              |2025-05-21 16:10:52.308|\n",
      "|32       |Supplier#000000032       |yvoD3TtZSx1skQNCK8agk5bZlZLug           |33-484-637-7873|3656.47  |23                       |1747643137991|2025-05-19 15:25:37|NULL         |NULL               |83365136512|200     |insert          |1              |2025-05-21 16:06:01.201|\n",
      "|60       |Supplier#000000060       |cb08ntDTARo47WmnBcYXu                   |18-550-360-2464|4615.8   |8                        |1747643137991|2025-05-19 15:25:37|NULL         |NULL               |83365179536|200     |insert          |1              |2025-05-21 16:06:01.201|\n",
      "|75       |Supplier#000000075       |7f3gN4rP1livII                          |28-716-704-8686|-124.84  |18                       |1747643137991|2025-05-19 15:25:37|NULL         |NULL               |83365184752|200     |insert          |1              |2025-05-21 16:06:01.201|\n",
      "|90       |Supplier#000000090       |bPE6Uhz1f2m3gwSGMrnRt,g,3gq37r5kxgphqss1|16-380-123-9217|6301.77  |6                        |1747643137991|2025-05-19 15:25:37|NULL         |NULL               |83365189936|200     |insert          |1              |2025-05-21 16:06:01.201|\n",
      "|98       |Supplier#000000098       |ogHn8dpXB5Q                             |31-914-775-1978|5973.07  |21                       |1747643137991|2025-05-19 15:25:37|NULL         |NULL               |83365200760|200     |insert          |1              |2025-05-21 16:06:01.201|\n",
      "|141      |Supplier#000000141       |5IN1dvjqFhyfKxoslkY3UL7CrNVPCZmq        |20-557-547-7976|8942.14  |10                       |1747643137991|2025-05-19 15:25:37|NULL         |NULL               |83365223600|200     |insert          |1              |2025-05-21 16:06:01.201|\n",
      "|145      |Supplier#000000145       |pSsVRBOlNKVuvXcjAEKxxy0hD8kA aZf        |16-136-582-9756|-585.94  |6                        |1747643137991|2025-05-19 15:25:37|NULL         |NULL               |83365225000|200     |insert          |1              |2025-05-21 16:06:01.201|\n",
      "|151      |Supplier#000000151       |2hd,3OAKPb39IY7 XuptY                   |32-960-568-5148|8661.72  |22                       |1747643137991|2025-05-19 15:25:37|NULL         |NULL               |83365227200|200     |insert          |1              |2025-05-21 16:06:01.201|\n",
      "|195      |Supplier#000000195       |xWy21YlUy3R6L01                         |12-395-261-9720|-667.31  |2                        |1747643137991|2025-05-19 15:25:37|NULL         |NULL               |83365250544|200     |insert          |1              |2025-05-21 16:06:01.201|\n",
      "|200      |Supplier#000000200       |MNqafnV52UKvwuk3jFCn,AJkL               |21-962-509-4762|1689.13  |11                       |1747643137991|2025-05-19 15:25:37|NULL         |NULL               |83365252264|200     |insert          |1              |2025-05-21 16:06:01.201|\n",
      "|203      |Supplier#000000203       |wvdhblw9JkIe52z0gnGSDrDBsMsI3Aidqk      |11-257-649-3327|2250.78  |1                        |1747643137991|2025-05-19 15:25:37|NULL         |NULL               |83365253360|200     |insert          |1              |2025-05-21 16:06:01.201|\n",
      "|221      |Supplier#000000221       |aU oCBZs0CUUTU                          |21-402-925-9045|4383.34  |11                       |1747643137991|2025-05-19 15:25:37|NULL         |NULL               |83365259504|200     |insert          |1              |2025-05-21 16:06:01.201|\n",
      "|256      |Supplier#000000256       |ma15idU1PzO7itP67W1Rd                   |21-370-961-2170|6569.78  |11                       |1747643137991|2025-05-19 15:25:37|NULL         |NULL               |83365279976|200     |insert          |1              |2025-05-21 16:06:01.201|\n",
      "|265      |Supplier#000000265       |eHF4Edu,B8,NgBSSEV4xNC37i1q08WCNKyOe6jP |29-734-865-6334|2738.54  |19                       |1747643137991|2025-05-19 15:25:37|NULL         |NULL               |83365283040|200     |insert          |1              |2025-05-21 16:06:01.201|\n",
      "|272      |Supplier#000000272       |ywrDqLLTfKUF93                          |17-209-164-6836|6958.73  |7                        |1747643137991|2025-05-19 15:25:37|NULL         |NULL               |83365293680|200     |insert          |1              |2025-05-21 16:06:01.201|\n",
      "|287      |Supplier#000000287       |7a9SP7qW5Yku5PvSg                       |13-484-626-4797|6641.85  |3                        |1747643137991|2025-05-19 15:25:37|NULL         |NULL               |83365299040|200     |insert          |1              |2025-05-21 16:06:01.201|\n",
      "+---------+-------------------------+----------------------------------------+---------------+---------+-------------------------+-------------+-------------------+-------------+-------------------+-----------+--------+----------------+---------------+-----------------------+\n",
      "only showing top 20 rows\n",
      "\n"
     ]
    },
    {
     "name": "stderr",
     "output_type": "stream",
     "text": [
      "                                                                                \r"
     ]
    }
   ],
   "source": [
    "change_df = (\n",
    "    spark.read\n",
    "    .format(\"delta\")\n",
    "    .option(\"readChangeFeed\", \"true\")\n",
    "    .option(\"startingVersion\", 0) # or startingTimestamp\n",
    "    .load('s3a://cdc-events/raw-supplier')\n",
    ")\n",
    "\n",
    "change_df.show(truncate=False)\n"
   ]
  },
  {
   "cell_type": "code",
   "execution_count": 11,
   "id": "1cbd5206",
   "metadata": {},
   "outputs": [
    {
     "data": {
      "text/plain": [
       "datetime.datetime(2025, 5, 21, 16, 6, 1, 201000)"
      ]
     },
     "execution_count": 11,
     "metadata": {},
     "output_type": "execute_result"
    }
   ],
   "source": [
    "spark.sql(\n",
    "    \"select min(_commit_timestamp), max(_commit_timestamp) from table_changes_by_path('s3a://cdc-events/raw-supplier', 0)\"\n",
    ").collect()[0][0]"
   ]
  },
  {
   "cell_type": "markdown",
   "id": "e0d5f8ca",
   "metadata": {},
   "source": [
    "# raw_supplier_cdc"
   ]
  },
  {
   "cell_type": "code",
   "execution_count": 14,
   "id": "c7bd2960",
   "metadata": {},
   "outputs": [
    {
     "name": "stdout",
     "output_type": "stream",
     "text": [
      "+-----------------+--------------+-----------------+-------------------+---------------+-----------------+-----------------+----------------+--------------------+--------------------+------------------+---------------+----------------+--------------------+-------------+----------------+-------------------+------------+-----------+-------------+---+-------------+----------------+-------------------+--------+\n",
      "|before__s_suppkey|before__s_name|before__s_address|before__s_nationkey|before__s_phone|before__s_acctbal|before__s_comment|after__s_suppkey|       after__s_name|    after__s_address|after__s_nationkey| after__s_phone|after__s_acctbal|    after__s_comment|source__ts_ms|   source__ts_us|      source__ts_ns|source__txId|source__lsn|source__table| op|        ts_ms|           ts_us|              ts_ns|batch_id|\n",
      "+-----------------+--------------+-----------------+-------------------+---------------+-----------------+-----------------+----------------+--------------------+--------------------+------------------+---------------+----------------+--------------------+-------------+----------------+-------------------+------------+-----------+-------------+---+-------------+----------------+-------------------+--------+\n",
      "|             NULL|          NULL|             NULL|               NULL|           NULL|             NULL|             NULL|          838999|Supplier#00083899...|          AChWxz Ifl|                 0|10-565-614-4717|            Dd/G| the carefully re...|1747630457691|1747630457691834|1747630457691834000|         734|83365086968|     supplier|  r|1747630483256|1747630483256301|1747630483256301977|     839|\n",
      "|             NULL|          NULL|             NULL|               NULL|           NULL|             NULL|             NULL|          839000|Supplier#00083900...| TiBhGk2 vqX1oLmYuzR|                14|24-183-821-4806|            Bsnr|furiously pending...|1747630457691|1747630457691834|1747630457691834000|         734|83365086968|     supplier|  r|1747630483256|1747630483256304|1747630483256304066|     839|\n",
      "|             NULL|          NULL|             NULL|               NULL|           NULL|             NULL|             NULL|          839001|Supplier#00083900...|Jw71MjMwrsCGLVX95...|                17|27-210-967-3044|            Cg0R| final requests a...|1747630457691|1747630457691834|1747630457691834000|         734|83365086968|     supplier|  r|1747630483256|1747630483256306|1747630483256306261|     839|\n",
      "|             NULL|          NULL|             NULL|               NULL|           NULL|             NULL|             NULL|          839002|Supplier#00083900...|YZ6JzabYGxVLWdu3a...|                10|20-814-574-4162|            A/KP|bold, regular pac...|1747630457691|1747630457691834|1747630457691834000|         734|83365086968|     supplier|  r|1747630483256|1747630483256308|1747630483256308333|     839|\n",
      "|             NULL|          NULL|             NULL|               NULL|           NULL|             NULL|             NULL|          839003|Supplier#00083900...|Y8yZLnHsSQWO2gPSN...|                20|30-952-938-8426|            CWMt|ix slyly after th...|1747630457691|1747630457691834|1747630457691834000|         734|83365086968|     supplier|  r|1747630483256|1747630483256310|1747630483256310353|     839|\n",
      "|             NULL|          NULL|             NULL|               NULL|           NULL|             NULL|             NULL|          839004|Supplier#00083900...|         9QFsMELDOvE|                15|25-414-359-4312|            C/5w|lar dependencies....|1747630457691|1747630457691834|1747630457691834000|         734|83365086968|     supplier|  r|1747630483256|1747630483256312|1747630483256312392|     839|\n",
      "|             NULL|          NULL|             NULL|               NULL|           NULL|             NULL|             NULL|          839005|Supplier#00083900...|uv2fS0Fjneb0UFajr...|                18|28-372-368-9869|            C0RJ|kly unusual theod...|1747630457691|1747630457691834|1747630457691834000|         734|83365086968|     supplier|  r|1747630483256|1747630483256314|1747630483256314443|     839|\n",
      "|             NULL|          NULL|             NULL|               NULL|           NULL|             NULL|             NULL|          839006|Supplier#00083900...|        UP5nVTl2W5GF|                 0|10-347-760-1122|            CVP8|uickly regular pl...|1747630457691|1747630457691834|1747630457691834000|         734|83365086968|     supplier|  r|1747630483256|1747630483256316|1747630483256316521|     839|\n",
      "|             NULL|          NULL|             NULL|               NULL|           NULL|             NULL|             NULL|          839007|Supplier#00083900...|LPE5Kg3pFQz9 ofBy...|                 5|15-207-117-7989|            BQpk|ully final accoun...|1747630457691|1747630457691834|1747630457691834000|         734|83365086968|     supplier|  r|1747630483256|1747630483256318|1747630483256318566|     839|\n",
      "|             NULL|          NULL|             NULL|               NULL|           NULL|             NULL|             NULL|          839008|Supplier#00083900...|WL6onk,loWqgzRQ27...|                17|27-355-891-4866|            Acyt|gside of the unus...|1747630457691|1747630457691834|1747630457691834000|         734|83365086968|     supplier|  r|1747630483256|1747630483256320|1747630483256320625|     839|\n",
      "|             NULL|          NULL|             NULL|               NULL|           NULL|             NULL|             NULL|          839009|Supplier#00083900...|       lJy2p ULHFgMr|                 5|15-362-580-2972|            DDaZ|y regular package...|1747630457691|1747630457691834|1747630457691834000|         734|83365086968|     supplier|  r|1747630483256|1747630483256322|1747630483256322693|     839|\n",
      "|             NULL|          NULL|             NULL|               NULL|           NULL|             NULL|             NULL|          839010|Supplier#00083901...|         iJ,9iCnfYZE|                15|25-592-129-6250|            Bd+3|sts. slyly regula...|1747630457691|1747630457691834|1747630457691834000|         734|83365086968|     supplier|  r|1747630483256|1747630483256324|1747630483256324727|     839|\n",
      "|             NULL|          NULL|             NULL|               NULL|           NULL|             NULL|             NULL|          839011|Supplier#00083901...|l6IC lUlPRFz,xGC0...|                 3|13-481-141-8229|            CLU7|y pending courts ...|1747630457691|1747630457691834|1747630457691834000|         734|83365086968|     supplier|  r|1747630483256|1747630483256326|1747630483256326794|     839|\n",
      "|             NULL|          NULL|             NULL|               NULL|           NULL|             NULL|             NULL|          839012|Supplier#00083901...|jRPpZkPu5LfcUvKjl...|                11|21-994-391-4862|            BaIv|jole carefully sl...|1747630457691|1747630457691834|1747630457691834000|         734|83365086968|     supplier|  r|1747630483256|1747630483256328|1747630483256328904|     839|\n",
      "|             NULL|          NULL|             NULL|               NULL|           NULL|             NULL|             NULL|          839013|Supplier#00083901...|vDFJf ZEYClGEqLyP...|                 3|13-912-877-1738|            Dhy2|s haggle. slyly b...|1747630457691|1747630457691834|1747630457691834000|         734|83365086968|     supplier|  r|1747630483256|1747630483256330|1747630483256330944|     839|\n",
      "|             NULL|          NULL|             NULL|               NULL|           NULL|             NULL|             NULL|          839014|Supplier#00083901...|        khQfXwjlJx6S|                14|24-454-563-8119|            DLHW|ggle carefully. d...|1747630457691|1747630457691834|1747630457691834000|         734|83365086968|     supplier|  r|1747630483256|1747630483256332|1747630483256332991|     839|\n",
      "|             NULL|          NULL|             NULL|               NULL|           NULL|             NULL|             NULL|          839015|Supplier#00083901...|XAufBJVWFFiqTsMQb...|                13|23-567-960-2645|            Bncr|y bold waters wak...|1747630457691|1747630457691834|1747630457691834000|         734|83365086968|     supplier|  r|1747630483256|1747630483256335|1747630483256335088|     839|\n",
      "|             NULL|          NULL|             NULL|               NULL|           NULL|             NULL|             NULL|          839016|Supplier#00083901...|qxDhnjvrDnMzRaVB9...|                18|28-443-810-6724|            /q3M|es. carefully iro...|1747630457691|1747630457691834|1747630457691834000|         734|83365086968|     supplier|  r|1747630483256|1747630483256337|1747630483256337174|     839|\n",
      "|             NULL|          NULL|             NULL|               NULL|           NULL|             NULL|             NULL|          839017|Supplier#00083901...|8DzgomWXWzRk3Ykjl...|                13|23-135-530-3402|            /w0O|y bold pinto bean...|1747630457691|1747630457691834|1747630457691834000|         734|83365086968|     supplier|  r|1747630483256|1747630483256339|1747630483256339239|     839|\n",
      "|             NULL|          NULL|             NULL|               NULL|           NULL|             NULL|             NULL|          839018|Supplier#00083901...|    zoqAHwCzOkUGoeK1|                 6|16-354-993-4696|            CSbb|al braids detect ...|1747630457691|1747630457691834|1747630457691834000|         734|83365086968|     supplier|  r|1747630483256|1747630483256341|1747630483256341356|     839|\n",
      "+-----------------+--------------+-----------------+-------------------+---------------+-----------------+-----------------+----------------+--------------------+--------------------+------------------+---------------+----------------+--------------------+-------------+----------------+-------------------+------------+-----------+-------------+---+-------------+----------------+-------------------+--------+\n",
      "only showing top 20 rows\n",
      "\n"
     ]
    }
   ],
   "source": [
    "raw_supplier_cdc_dt = DeltaTable.forPath(spark, 's3a://cdc-events/raw-supplier-cdc/')\n",
    "\n",
    "raw_supplier_cdc_df = raw_supplier_cdc_dt.toDF()\n",
    "raw_supplier_cdc_df.show()"
   ]
  },
  {
   "cell_type": "code",
   "execution_count": 17,
   "id": "7f801101",
   "metadata": {},
   "outputs": [
    {
     "name": "stdout",
     "output_type": "stream",
     "text": [
      "+-----------------+--------------+-----------------+-------------------+---------------+-----------------+-----------------+----------------+-------------+----------------+------------------+--------------+----------------+----------------+-------------+----------------+-------------------+------------+-----------+-------------+---+-------------+----------------+-------------------+--------+\n",
      "|before__s_suppkey|before__s_name|before__s_address|before__s_nationkey|before__s_phone|before__s_acctbal|before__s_comment|after__s_suppkey|after__s_name|after__s_address|after__s_nationkey|after__s_phone|after__s_acctbal|after__s_comment|source__ts_ms|   source__ts_us|      source__ts_ns|source__txId|source__lsn|source__table| op|        ts_ms|           ts_us|              ts_ns|batch_id|\n",
      "+-----------------+--------------+-----------------+-------------------+---------------+-----------------+-----------------+----------------+-------------+----------------+------------------+--------------+----------------+----------------+-------------+----------------+-------------------+------------+-----------+-------------+---+-------------+----------------+-------------------+--------+\n",
      "|          1000001|          NULL|             NULL|               NULL|           NULL|             NULL|             NULL|            NULL|         NULL|            NULL|              NULL|          NULL|            NULL|            NULL|1747647623499|1747647623499298|1747647623499298000|         737|83365714760|     supplier|  d|1747647624019|1747647624019032|1747647624019032951|    1002|\n",
      "+-----------------+--------------+-----------------+-------------------+---------------+-----------------+-----------------+----------------+-------------+----------------+------------------+--------------+----------------+----------------+-------------+----------------+-------------------+------------+-----------+-------------+---+-------------+----------------+-------------------+--------+\n",
      "\n"
     ]
    }
   ],
   "source": [
    "spark.sql(\"\"\"\n",
    "    select\n",
    "        *\n",
    "    from delta.`s3a://cdc-events/raw-supplier-cdc/`\n",
    "    where op = 'd'\n",
    "\"\"\").show()"
   ]
  },
  {
   "cell_type": "code",
   "execution_count": 12,
   "id": "a87e7c84",
   "metadata": {},
   "outputs": [
    {
     "data": {
      "text/plain": [
       "1747647623499"
      ]
     },
     "execution_count": 12,
     "metadata": {},
     "output_type": "execute_result"
    }
   ],
   "source": [
    "spark.sql(f\"select max(source__ts_ms) from delta.`s3a://cdc-events/raw-supplier-cdc/`\").collect()[0][0]"
   ]
  },
  {
   "cell_type": "code",
   "execution_count": null,
   "id": "f8c56346",
   "metadata": {},
   "outputs": [],
   "source": [
    "# get max date from the target table\n",
    "# created_date_ts = (col(ts_ms) / 1000).cast(TimestampType())\n",
    "start_date_ts = \"select max(created_date_ts) from target\"\n",
    "\n",
    "# incremental query\n",
    "sql = f\"select * from delta.`s3a://cdc-events/raw-supplier-cdc/` where source__ts_ms >= {start_date_ts} limit 1000\""
   ]
  },
  {
   "cell_type": "markdown",
   "id": "c5535f89",
   "metadata": {},
   "source": [
    "# raw_lineitem"
   ]
  },
  {
   "cell_type": "code",
   "execution_count": null,
   "id": "2314396c",
   "metadata": {},
   "outputs": [],
   "source": [
    "# raw_line_item_dt = DeltaTable.forPath(\n",
    "#     spark,\n",
    "#     \"hdfs://localhost:9000/user/hadoopuser/raw/raw_lineitem\"\n",
    "# )\n",
    "\n",
    "# raw_line_item_dt.optimize().executeZOrderBy(\n",
    "#     \"l_orderkey\",\n",
    "#     \"l_partkey\",\n",
    "#     \"l_suppkey\"\n",
    "# )"
   ]
  },
  {
   "cell_type": "markdown",
   "id": "afbaa0e9",
   "metadata": {},
   "source": [
    "# stg_customer_dim"
   ]
  },
  {
   "cell_type": "code",
   "execution_count": null,
   "id": "464f1e2d",
   "metadata": {},
   "outputs": [],
   "source": [
    "# define table\n",
    "table_path = \"hdfs://localhost:9000/user/hadoopuser/stage/stg_customer_dim\"\n",
    "dt = DeltaTable.forPath(spark, table_path)\n",
    "\n",
    "df = dt.toDF()\n",
    "df.show()"
   ]
  },
  {
   "cell_type": "code",
   "execution_count": null,
   "id": "ad539aed",
   "metadata": {},
   "outputs": [],
   "source": [
    "dt.history().show(truncate=False)"
   ]
  },
  {
   "cell_type": "code",
   "execution_count": null,
   "id": "bb97ca56",
   "metadata": {},
   "outputs": [],
   "source": [
    "dt.detail().show(truncate=False)"
   ]
  },
  {
   "cell_type": "code",
   "execution_count": null,
   "id": "177b88f4",
   "metadata": {},
   "outputs": [],
   "source": [
    "df.count()"
   ]
  },
  {
   "cell_type": "code",
   "execution_count": null,
   "id": "feee8c41",
   "metadata": {},
   "outputs": [],
   "source": [
    "dt.optimize().executeCompaction()"
   ]
  },
  {
   "cell_type": "markdown",
   "id": "4856f8d9",
   "metadata": {},
   "source": [
    "# stg_order_dim"
   ]
  },
  {
   "cell_type": "code",
   "execution_count": null,
   "id": "9b7b74bb",
   "metadata": {},
   "outputs": [],
   "source": [
    "stg_order_dt = DeltaTable.forPath(\n",
    "    spark, \n",
    "    \"hdfs://localhost:9000/user/hadoopuser/stage/stg_order_dim\"\n",
    ")"
   ]
  },
  {
   "cell_type": "code",
   "execution_count": null,
   "id": "30dca7de",
   "metadata": {},
   "outputs": [],
   "source": [
    "stg_order_dt.history().show(truncate=False)"
   ]
  },
  {
   "cell_type": "code",
   "execution_count": null,
   "id": "02f4accc",
   "metadata": {},
   "outputs": [],
   "source": [
    "stg_order_dt.toDF().show(10)"
   ]
  },
  {
   "cell_type": "markdown",
   "id": "b17b714a",
   "metadata": {},
   "source": [
    "## update schema\n",
    "```sql\n",
    "ALTER TABLE table_name \n",
    "ADD COLUMNS (col_name data_type [COMMENT col_comment] [FIRST|AFTER colA_name], ...)\n",
    "```"
   ]
  },
  {
   "cell_type": "code",
   "execution_count": null,
   "id": "bda0d912",
   "metadata": {},
   "outputs": [],
   "source": [
    "spark.sql(\"\"\"\n",
    "    ALTER TABLE delta.`hdfs://localhost:9000/user/hadoopuser/stage/stg_order_dim`\n",
    "    ADD COLUMNS (record_track_hash INTEGER)\n",
    "\"\"\")"
   ]
  },
  {
   "cell_type": "code",
   "execution_count": null,
   "id": "1f551592",
   "metadata": {},
   "outputs": [],
   "source": [
    "spark.sql(\"\"\"\n",
    "    ALTER TABLE delta.`hdfs://localhost:9000/user/hadoopuser/stage/stg_order_dim` \n",
    "    SET TBLPROPERTIES (\n",
    "        'delta.minReaderVersion' = '2',\n",
    "        'delta.minWriterVersion' = '5',\n",
    "        'delta.columnMapping.mode' = 'name'\n",
    "    )\n",
    "\"\"\")"
   ]
  },
  {
   "cell_type": "code",
   "execution_count": null,
   "id": "2e5cd717",
   "metadata": {},
   "outputs": [],
   "source": [
    "spark.sql(\"\"\"\n",
    "    ALTER TABLE delta.`hdfs://localhost:9000/user/hadoopuser/stage/stg_order_dim`\n",
    "    DROP COLUMN o_comment\n",
    "\"\"\")"
   ]
  },
  {
   "cell_type": "markdown",
   "id": "ed28ee63",
   "metadata": {},
   "source": [
    "# stg_part_dim"
   ]
  },
  {
   "cell_type": "code",
   "execution_count": null,
   "id": "c0e2d052",
   "metadata": {},
   "outputs": [],
   "source": [
    "stg_part_dt = DeltaTable.forPath(spark, 'hdfs://localhost:9000/user/hadoopuser/stage/stg_part_dim')"
   ]
  },
  {
   "cell_type": "code",
   "execution_count": null,
   "id": "c8cac9c5",
   "metadata": {},
   "outputs": [],
   "source": [
    "stg_part_dt.history().show(truncate=False)"
   ]
  },
  {
   "cell_type": "code",
   "execution_count": null,
   "id": "da71e897",
   "metadata": {},
   "outputs": [],
   "source": [
    "stg_part_dt.toDF().show(truncate=False)"
   ]
  },
  {
   "cell_type": "code",
   "execution_count": null,
   "id": "cfb1753b",
   "metadata": {},
   "outputs": [],
   "source": [
    "spark.sql(\"\"\"\n",
    "    ALTER TABLE delta.`hdfs://localhost:9000/user/hadoopuser/stage/stg_part_dim` \n",
    "    SET TBLPROPERTIES (\n",
    "        'delta.minReaderVersion' = '2',\n",
    "        'delta.minWriterVersion' = '5',\n",
    "        'delta.columnMapping.mode' = 'name'\n",
    "    )\n",
    "\"\"\")"
   ]
  },
  {
   "cell_type": "code",
   "execution_count": null,
   "id": "9eeb5f23",
   "metadata": {},
   "outputs": [],
   "source": [
    "spark.sql(\"\"\"\n",
    "    ALTER TABLE delta.`hdfs://localhost:9000/user/hadoopuser/stage/stg_part_dim`\n",
    "    ADD COLUMNS (record_track_hash INTEGER)\n",
    "\"\"\")"
   ]
  },
  {
   "cell_type": "code",
   "execution_count": null,
   "id": "9f555dd1",
   "metadata": {},
   "outputs": [],
   "source": [
    "spark.sql(\"\"\"\n",
    "    ALTER TABLE delta.`hdfs://localhost:9000/user/hadoopuser/stage/stg_part_dim`\n",
    "    DROP COLUMN p_comment\n",
    "\"\"\")"
   ]
  },
  {
   "cell_type": "markdown",
   "id": "9f9071d3",
   "metadata": {},
   "source": [
    "# stg_supplier_dim"
   ]
  },
  {
   "cell_type": "code",
   "execution_count": null,
   "id": "7412c70c",
   "metadata": {},
   "outputs": [],
   "source": [
    "stg_supplier_dt = DeltaTable.forPath(\n",
    "    spark,\n",
    "    'hdfs://localhost:9000/user/hadoopuser/stage/stg_supplier_dim'\n",
    ")"
   ]
  },
  {
   "cell_type": "code",
   "execution_count": null,
   "id": "33fc8c67",
   "metadata": {},
   "outputs": [],
   "source": [
    "stg_supplier_dt.history().show(truncate=False)"
   ]
  },
  {
   "cell_type": "code",
   "execution_count": null,
   "id": "220b43ad",
   "metadata": {},
   "outputs": [],
   "source": [
    "spark.sql(\"\"\"\n",
    "    ALTER TABLE delta.`hdfs://localhost:9000/user/hadoopuser/stage/stg_supplier_dim` \n",
    "    SET TBLPROPERTIES (\n",
    "        'delta.minReaderVersion' = '2',\n",
    "        'delta.minWriterVersion' = '5',\n",
    "        'delta.columnMapping.mode' = 'name'\n",
    "    )\n",
    "\"\"\")\n",
    "\n",
    "spark.sql(\"\"\"\n",
    "    ALTER TABLE delta.`hdfs://localhost:9000/user/hadoopuser/stage/stg_supplier_dim`\n",
    "    ADD COLUMNS (record_track_hash INTEGER)\n",
    "\"\"\")\n",
    "\n",
    "spark.sql(\"\"\"\n",
    "    ALTER TABLE delta.`hdfs://localhost:9000/user/hadoopuser/stage/stg_supplier_dim`\n",
    "    DROP COLUMN s_comment\n",
    "\"\"\")\n"
   ]
  },
  {
   "cell_type": "code",
   "execution_count": null,
   "id": "ce42158f",
   "metadata": {},
   "outputs": [],
   "source": [
    "stg_supplier_dt.toDF().show()"
   ]
  },
  {
   "cell_type": "code",
   "execution_count": null,
   "id": "66570589",
   "metadata": {},
   "outputs": [],
   "source": [
    "stg_supplier_dt.toDF().where(\"record_active_flag = true\").show()"
   ]
  },
  {
   "cell_type": "markdown",
   "id": "88a16ca6",
   "metadata": {},
   "source": [
    "# stg_line_item_fact"
   ]
  },
  {
   "cell_type": "code",
   "execution_count": 5,
   "id": "0ac8d800",
   "metadata": {},
   "outputs": [],
   "source": [
    "stg_line_item_dt = DeltaTable.forPath(\n",
    "    spark,\n",
    "    'hdfs://localhost:9000/user/hadoopuser/stage/stg_line_item_fact'\n",
    ")"
   ]
  },
  {
   "cell_type": "code",
   "execution_count": 6,
   "id": "5d0b1fc7",
   "metadata": {},
   "outputs": [
    {
     "name": "stderr",
     "output_type": "stream",
     "text": [
      "[Stage 0:======================================================>  (27 + 1) / 28]\r"
     ]
    },
    {
     "name": "stdout",
     "output_type": "stream",
     "text": [
      "+-------+-----------------------+------+--------+------------+----------------------------------------------------------------------------------------------------------------------------------------------------------------------------------------------------------------------------------------------------------------------------+----+--------+---------+-----------+--------------+-------------+--------------------------------------------------------------------------------------------------------------------------------------------------------------------------------------------------------------------------------------------------------------------------------------------------------------------------------------------------------------------------------------------------------------------------------------------------------------------------------------------------------------------------------------------------------------------------------------------------------------------------------------------------------------------------------------------------------------------------------+------------+-----------------------------------+\n",
      "|version|timestamp              |userId|userName|operation   |operationParameters                                                                                                                                                                                                                                                         |job |notebook|clusterId|readVersion|isolationLevel|isBlindAppend|operationMetrics                                                                                                                                                                                                                                                                                                                                                                                                                                                                                                                                                                                                                                                                                                                |userMetadata|engineInfo                         |\n",
      "+-------+-----------------------+------+--------+------------+----------------------------------------------------------------------------------------------------------------------------------------------------------------------------------------------------------------------------------------------------------------------------+----+--------+---------+-----------+--------------+-------------+--------------------------------------------------------------------------------------------------------------------------------------------------------------------------------------------------------------------------------------------------------------------------------------------------------------------------------------------------------------------------------------------------------------------------------------------------------------------------------------------------------------------------------------------------------------------------------------------------------------------------------------------------------------------------------------------------------------------------------+------------+-----------------------------------+\n",
      "|1      |2025-05-06 12:23:22.948|NULL  |NULL    |MERGE       |{predicate -> [\"(((l_orderkey#5 = l_orderkey#70) AND (l_linenumber#6 = l_linenumber#73)) AND (__session_id#38 = __session_id#774))\"], matchedPredicates -> [{\"actionType\":\"update\"}], notMatchedPredicates -> [{\"actionType\":\"insert\"}], notMatchedBySourcePredicates -> []}|NULL|NULL    |NULL     |0          |Serializable  |false        |{numTargetRowsCopied -> 0, numTargetRowsDeleted -> 0, numTargetFilesAdded -> 200, numTargetBytesAdded -> 32819301219, numTargetBytesRemoved -> 0, numTargetDeletionVectorsAdded -> 0, numTargetRowsMatchedUpdated -> 0, executionTimeMs -> 1643435, materializeSourceTimeMs -> 1221546, numTargetRowsInserted -> 600037902, numTargetRowsMatchedDeleted -> 0, numTargetDeletionVectorsUpdated -> 0, scanTimeMs -> 39825, numTargetRowsUpdated -> 0, numOutputRows -> 600037902, numTargetDeletionVectorsRemoved -> 0, numTargetRowsNotMatchedBySourceUpdated -> 0, numTargetChangeFilesAdded -> 0, numSourceRows -> 600037902, numTargetFilesRemoved -> 0, numTargetRowsNotMatchedBySourceDeleted -> 0, rewriteTimeMs -> 382044}|NULL        |Apache-Spark/3.5.5 Delta-Lake/3.3.0|\n",
      "|0      |2025-05-06 11:50:15.483|NULL  |NULL    |CREATE TABLE|{partitionBy -> [], clusterBy -> [], description -> NULL, isManaged -> false, properties -> {}}                                                                                                                                                                             |NULL|NULL    |NULL     |NULL       |Serializable  |true         |{}                                                                                                                                                                                                                                                                                                                                                                                                                                                                                                                                                                                                                                                                                                                              |NULL        |Apache-Spark/3.5.5 Delta-Lake/3.3.0|\n",
      "+-------+-----------------------+------+--------+------------+----------------------------------------------------------------------------------------------------------------------------------------------------------------------------------------------------------------------------------------------------------------------------+----+--------+---------+-----------+--------------+-------------+--------------------------------------------------------------------------------------------------------------------------------------------------------------------------------------------------------------------------------------------------------------------------------------------------------------------------------------------------------------------------------------------------------------------------------------------------------------------------------------------------------------------------------------------------------------------------------------------------------------------------------------------------------------------------------------------------------------------------------+------------+-----------------------------------+\n",
      "\n"
     ]
    },
    {
     "name": "stderr",
     "output_type": "stream",
     "text": [
      "                                                                                \r"
     ]
    }
   ],
   "source": [
    "stg_line_item_dt.history().show(truncate=False)"
   ]
  },
  {
   "cell_type": "code",
   "execution_count": 7,
   "id": "701bd9aa",
   "metadata": {},
   "outputs": [
    {
     "data": {
      "text/plain": [
       "DataFrame[]"
      ]
     },
     "execution_count": 7,
     "metadata": {},
     "output_type": "execute_result"
    }
   ],
   "source": [
    "spark.sql(\"\"\"\n",
    "    ALTER TABLE delta.`hdfs://localhost:9000/user/hadoopuser/stage/stg_line_item_fact`\n",
    "    ADD COLUMNS (\n",
    "        __session_id CHAR(36)\n",
    "    )\n",
    "\"\"\")"
   ]
  },
  {
   "cell_type": "code",
   "execution_count": null,
   "id": "4ba408f8",
   "metadata": {},
   "outputs": [],
   "source": [
    "spark.sql(\"\"\"\n",
    "    ALTER TABLE delta.`hdfs://localhost:9000/user/hadoopuser/stage/stg_line_item_fact` \n",
    "    SET TBLPROPERTIES (\n",
    "        'delta.minReaderVersion' = '2',\n",
    "        'delta.minWriterVersion' = '5',\n",
    "        'delta.columnMapping.mode' = 'name'\n",
    "    )\n",
    "\"\"\")\n",
    "\n",
    "spark.sql(\"\"\"\n",
    "    ALTER TABLE delta.`hdfs://localhost:9000/user/hadoopuser/stage/stg_line_item_fact`\n",
    "    ADD COLUMNS (\n",
    "        sk_orderkey INTEGER AFTER sk_lineitemkey,\n",
    "        sk_partkey INTEGER AFTER sk_lineitemkey,\n",
    "        sk_suppkey INTEGER AFTER sk_lineitemkey,\n",
    "        sk_custkey INTEGER AFTER sk_lineitemkey,\n",
    "        record_track_hash INTEGER\n",
    "    )\n",
    "\"\"\")\n",
    "\n",
    "spark.sql(\"\"\"\n",
    "    ALTER TABLE delta.`hdfs://localhost:9000/user/hadoopuser/stage/stg_line_item_fact`\n",
    "    DROP COLUMNS (l_partkey, l_suppkey, o_custkey, l_comment)\n",
    "\"\"\")\n"
   ]
  },
  {
   "cell_type": "code",
   "execution_count": 8,
   "id": "db4ce007",
   "metadata": {},
   "outputs": [
    {
     "name": "stdout",
     "output_type": "stream",
     "text": [
      "+--------------+-----------+----------+----------+----------+----------+------------+-----------+---------------+--------------+-------------+------------+---------------+-------------+-----------+----------+---------------+----------+-----+------------+------------+----------+------------+-------------+-------------------------+----------+------------------+-----------------+---------------+-----------------+------------------------------------+\n",
      "|sk_lineitemkey|sk_orderkey|sk_partkey|sk_suppkey|sk_custkey|l_orderkey|l_linenumber|o_orderdate|o_orderpriority|o_shippriority|o_orderstatus|o_totalprice|o_clerk        |ps_supplycost|ps_availqty|l_quantity|l_extendedprice|l_discount|l_tax|l_returnflag|l_linestatus|l_shipdate|l_commitdate|l_receiptdate|l_shipinstruct           |l_shipmode|record_active_flag|record_start_date|record_end_date|record_track_hash|__session_id                        |\n",
      "+--------------+-----------+----------+----------+----------+----------+------------+-----------+---------------+--------------+-------------+------------+---------------+-------------+-----------+----------+---------------+----------+-----+------------+------------+----------+------------+-------------+-------------------------+----------+------------------+-----------------+---------------+-----------------+------------------------------------+\n",
      "|100           |63190933   |18670932  |10617976  |7987599   |426349537 |4           |1995-05-26 |4-NOT SPECIFIED|0             |P            |169215.02   |Clerk#000093081|604.25       |8268       |6.0       |5892.48        |0.01      |0.05 |N           |O           |1995-07-02|1995-08-13  |1995-07-05   |COLLECT COD              |RAIL      |NULL              |NULL             |NULL           |-1397080523      |f9c71ff9-9c31-4bfa-9c27-a2e2cc8a4b12|\n",
      "|300           |47468251   |18670932  |10617976  |1361958   |143944389 |1           |1994-11-25 |1-URGENT       |0             |F            |39189.53    |Clerk#000009643|604.25       |8268       |7.0       |6874.56        |0.0       |0.03 |R           |F           |1995-02-07|1995-02-19  |1995-02-08   |NONE                     |SHIP      |NULL              |NULL             |NULL           |-1786769518      |f9c71ff9-9c31-4bfa-9c27-a2e2cc8a4b12|\n",
      "|500           |69313421   |18670932  |10617976  |2940531   |579500995 |3           |1998-02-23 |5-LOW          |0             |O            |78498.56    |Clerk#000091253|604.25       |8268       |26.0      |25534.08       |0.03      |0.01 |N           |O           |1998-05-25|1998-04-16  |1998-06-14   |NONE                     |FOB       |NULL              |NULL             |NULL           |-2111349526      |f9c71ff9-9c31-4bfa-9c27-a2e2cc8a4b12|\n",
      "|700           |2385705    |18671527  |4120376   |21163148  |321096384 |4           |1996-02-23 |1-URGENT       |0             |O            |335877.31   |Clerk#000006795|706.51       |5906       |13.0      |13222.43       |0.08      |0.02 |N           |O           |1996-04-15|1996-05-11  |1996-05-01   |COLLECT COD              |REG AIR   |NULL              |NULL             |NULL           |1130606787       |f9c71ff9-9c31-4bfa-9c27-a2e2cc8a4b12|\n",
      "|900           |90618190   |18671527  |4120376   |14135232  |147466848 |3           |1993-03-22 |2-HIGH         |0             |F            |147272.55   |Clerk#000034768|706.51       |5906       |25.0      |25427.75       |0.03      |0.05 |R           |F           |1993-04-08|1993-06-15  |1993-04-14   |DELIVER IN PERSON        |TRUCK     |NULL              |NULL             |NULL           |-464480552       |f9c71ff9-9c31-4bfa-9c27-a2e2cc8a4b12|\n",
      "|1100          |146500169  |18671527  |4120376   |3396631   |341897731 |5           |1996-06-24 |3-MEDIUM       |0             |O            |387163.95   |Clerk#000099119|706.51       |5906       |31.0      |31530.41       |0.0       |0.03 |N           |O           |1996-07-26|1996-07-31  |1996-08-03   |TAKE BACK RETURN         |AIR       |NULL              |NULL             |NULL           |635599190        |f9c71ff9-9c31-4bfa-9c27-a2e2cc8a4b12|\n",
      "|1300          |79836379   |18671527  |4120376   |19460571  |368088772 |4           |1995-07-16 |1-URGENT       |0             |O            |103801.44   |Clerk#000049454|706.51       |5906       |23.0      |23393.53       |0.04      |0.08 |N           |O           |1995-10-25|1995-10-02  |1995-11-02   |TAKE BACK RETURN         |SHIP      |NULL              |NULL             |NULL           |-2016736908      |f9c71ff9-9c31-4bfa-9c27-a2e2cc8a4b12|\n",
      "|1500          |126468008  |18671527  |4120376   |10456030  |255279842 |1           |1993-12-30 |2-HIGH         |0             |F            |233497.47   |Clerk#000006628|706.51       |5906       |10.0      |10171.1        |0.0       |0.05 |A           |F           |1994-02-03|1994-02-12  |1994-02-10   |DELIVER IN PERSON        |SHIP      |NULL              |NULL             |NULL           |-562490233       |f9c71ff9-9c31-4bfa-9c27-a2e2cc8a4b12|\n",
      "|1700          |116787369  |18671527  |4120376   |2888352   |231019969 |3           |1997-09-03 |3-MEDIUM       |0             |O            |99196.13    |Clerk#000099086|706.51       |5906       |36.0      |36615.96       |0.09      |0.08 |N           |O           |1997-12-16|1997-10-03  |1998-01-11   |DELIVER IN PERSON        |REG AIR   |NULL              |NULL             |NULL           |1379064137       |f9c71ff9-9c31-4bfa-9c27-a2e2cc8a4b12|\n",
      "|1900          |68693904   |18671527  |4120376   |9715598   |70499107  |2           |1992-04-02 |1-URGENT       |0             |F            |194449.05   |Clerk#000035900|706.51       |5906       |28.0      |28479.08       |0.03      |0.06 |A           |F           |1992-04-17|1992-06-05  |1992-05-16   |COLLECT COD              |SHIP      |NULL              |NULL             |NULL           |-261755311       |f9c71ff9-9c31-4bfa-9c27-a2e2cc8a4b12|\n",
      "+--------------+-----------+----------+----------+----------+----------+------------+-----------+---------------+--------------+-------------+------------+---------------+-------------+-----------+----------+---------------+----------+-----+------------+------------+----------+------------+-------------+-------------------------+----------+------------------+-----------------+---------------+-----------------+------------------------------------+\n",
      "only showing top 10 rows\n",
      "\n"
     ]
    }
   ],
   "source": [
    "stg_line_item_dt.toDF().show(10, truncate=False)"
   ]
  },
  {
   "cell_type": "markdown",
   "id": "aefcea1d",
   "metadata": {},
   "source": [
    "# Check key distribution in table"
   ]
  },
  {
   "cell_type": "markdown",
   "id": "fb43aa87",
   "metadata": {},
   "source": [
    "## dim_order"
   ]
  },
  {
   "cell_type": "code",
   "execution_count": 5,
   "id": "0b7a3485",
   "metadata": {},
   "outputs": [
    {
     "name": "stderr",
     "output_type": "stream",
     "text": [
      "25/04/29 15:29:39 WARN MetricsConfig: Cannot locate configuration: tried hadoop-metrics2-s3a-file-system.properties,hadoop-metrics2.properties\n",
      "25/04/29 15:29:42 WARN SparkStringUtils: Truncated the string representation of a plan since it was too large. This behavior can be adjusted by setting 'spark.sql.debug.maxToStringFields'.\n",
      "[Stage 10:====================================================>   (15 + 1) / 16]\r"
     ]
    },
    {
     "name": "stdout",
     "output_type": "stream",
     "text": [
      "+-----------+----------+-------------+------------+-----------+---------------+---------------+--------------+------------------+-----------------+---------------+-----------------+\n",
      "|sk_orderkey|o_orderkey|o_orderstatus|o_totalprice|o_orderdate|o_orderpriority|        o_clerk|o_shippriority|record_active_flag|record_start_date|record_end_date|record_track_hash|\n",
      "+-----------+----------+-------------+------------+-----------+---------------+---------------+--------------+------------------+-----------------+---------------+-----------------+\n",
      "|         28| 271192098|            O|    79590.51| 1997-02-12|1-URGENT       |Clerk#000049928|             0|              true|       2025-04-26|           NULL|       -587546875|\n",
      "|         77| 271192099|            O|   107015.22| 1998-05-13|2-HIGH         |Clerk#000028896|             0|              true|       2025-04-26|           NULL|       -746102867|\n",
      "|        126| 271192100|            O|    37755.82| 1995-08-06|3-MEDIUM       |Clerk#000052105|             0|              true|       2025-04-26|           NULL|       1796612672|\n",
      "|        175| 271192101|            F|   242124.67| 1994-08-22|4-NOT SPECIFIED|Clerk#000020748|             0|              true|       2025-04-26|           NULL|       1389557684|\n",
      "|        224| 271192102|            F|   279899.75| 1994-11-05|5-LOW          |Clerk#000011290|             0|              true|       2025-04-26|           NULL|       -622696784|\n",
      "|        273| 271192103|            F|   185195.91| 1992-07-20|1-URGENT       |Clerk#000038082|             0|              true|       2025-04-26|           NULL|       1838668819|\n",
      "|        322| 271192128|            F|    75216.02| 1993-05-02|4-NOT SPECIFIED|Clerk#000035277|             0|              true|       2025-04-26|           NULL|        985822330|\n",
      "|        371| 271192129|            O|   279620.67| 1996-02-12|5-LOW          |Clerk#000094335|             0|              true|       2025-04-26|           NULL|        473337529|\n",
      "|        420| 271192130|            F|   331872.89| 1993-01-24|1-URGENT       |Clerk#000073813|             0|              true|       2025-04-26|           NULL|      -1084286327|\n",
      "|        469| 271192131|            O|   144618.12| 1998-04-25|5-LOW          |Clerk#000069823|             0|              true|       2025-04-26|           NULL|         -8643575|\n",
      "|        518| 271192132|            F|   139052.68| 1994-04-05|5-LOW          |Clerk#000098462|             0|              true|       2025-04-26|           NULL|      -1306901736|\n",
      "|        567| 271192133|            F|    182468.2| 1992-04-12|3-MEDIUM       |Clerk#000037636|             0|              true|       2025-04-26|           NULL|       2003420730|\n",
      "|        616| 271192134|            O|   221889.57| 1995-11-07|3-MEDIUM       |Clerk#000048169|             0|              true|       2025-04-26|           NULL|       -360643448|\n",
      "|        665| 271192135|            O|    72669.61| 1998-01-08|4-NOT SPECIFIED|Clerk#000072001|             0|              true|       2025-04-26|           NULL|         56937662|\n",
      "|        714| 271192160|            F|   184935.38| 1992-07-27|2-HIGH         |Clerk#000008927|             0|              true|       2025-04-26|           NULL|       -632616118|\n",
      "|        763| 271192161|            F|     3346.63| 1993-12-27|5-LOW          |Clerk#000033143|             0|              true|       2025-04-26|           NULL|        432727748|\n",
      "|        812| 271192162|            O|    55738.66| 1996-06-29|3-MEDIUM       |Clerk#000021641|             0|              true|       2025-04-26|           NULL|      -1880933090|\n",
      "|        861| 271192163|            O|     36540.5| 1995-06-04|5-LOW          |Clerk#000003597|             0|              true|       2025-04-26|           NULL|       -269977394|\n",
      "|        910| 271192164|            F|   121958.23| 1993-12-19|2-HIGH         |Clerk#000045501|             0|              true|       2025-04-26|           NULL|       1819192322|\n",
      "|        959| 271192165|            O|   107378.63| 1996-07-14|4-NOT SPECIFIED|Clerk#000022312|             0|              true|       2025-04-26|           NULL|      -1446923514|\n",
      "+-----------+----------+-------------+------------+-----------+---------------+---------------+--------------+------------------+-----------------+---------------+-----------------+\n",
      "only showing top 20 rows\n",
      "\n"
     ]
    },
    {
     "name": "stderr",
     "output_type": "stream",
     "text": [
      "                                                                                \r"
     ]
    }
   ],
   "source": [
    "dim_order_df = (\n",
    "    spark.read\n",
    "    .format(\"delta\")\n",
    "    .load(\"s3a://data-warehouse/dim_order\")\n",
    ")\n",
    "\n",
    "dim_order_df.show()"
   ]
  },
  {
   "cell_type": "markdown",
   "id": "8af27ded",
   "metadata": {},
   "source": [
    "# Analyze table"
   ]
  },
  {
   "cell_type": "code",
   "execution_count": 5,
   "id": "3eac8fcf",
   "metadata": {},
   "outputs": [
    {
     "ename": "AnalysisException",
     "evalue": "[NOT_SUPPORTED_COMMAND_FOR_V2_TABLE] ANALYZE TABLE is not supported for v2 tables.",
     "output_type": "error",
     "traceback": [
      "\u001b[31m---------------------------------------------------------------------------\u001b[39m",
      "\u001b[31mAnalysisException\u001b[39m                         Traceback (most recent call last)",
      "\u001b[36mCell\u001b[39m\u001b[36m \u001b[39m\u001b[32mIn[5]\u001b[39m\u001b[32m, line 1\u001b[39m\n\u001b[32m----> \u001b[39m\u001b[32m1\u001b[39m \u001b[43mspark\u001b[49m\u001b[43m.\u001b[49m\u001b[43msql\u001b[49m\u001b[43m(\u001b[49m\n\u001b[32m      2\u001b[39m \u001b[43m    \u001b[49m\u001b[33;43m\"\u001b[39;49m\u001b[33;43mANALYZE TABLE delta.`hdfs://localhost:9000/user/hadoopuser/raw/raw_lineitem` COMPUTE STATISTICS\u001b[39;49m\u001b[33;43m\"\u001b[39;49m\n\u001b[32m      3\u001b[39m \u001b[43m)\u001b[49m\n",
      "\u001b[36mFile \u001b[39m\u001b[32m~/Desktop/code/big-data-tools/venv/lib/python3.12/site-packages/pyspark/sql/session.py:1631\u001b[39m, in \u001b[36mSparkSession.sql\u001b[39m\u001b[34m(self, sqlQuery, args, **kwargs)\u001b[39m\n\u001b[32m   1627\u001b[39m         \u001b[38;5;28;01massert\u001b[39;00m \u001b[38;5;28mself\u001b[39m._jvm \u001b[38;5;129;01mis\u001b[39;00m \u001b[38;5;129;01mnot\u001b[39;00m \u001b[38;5;28;01mNone\u001b[39;00m\n\u001b[32m   1628\u001b[39m         litArgs = \u001b[38;5;28mself\u001b[39m._jvm.PythonUtils.toArray(\n\u001b[32m   1629\u001b[39m             [_to_java_column(lit(v)) \u001b[38;5;28;01mfor\u001b[39;00m v \u001b[38;5;129;01min\u001b[39;00m (args \u001b[38;5;129;01mor\u001b[39;00m [])]\n\u001b[32m   1630\u001b[39m         )\n\u001b[32m-> \u001b[39m\u001b[32m1631\u001b[39m     \u001b[38;5;28;01mreturn\u001b[39;00m DataFrame(\u001b[38;5;28;43mself\u001b[39;49m\u001b[43m.\u001b[49m\u001b[43m_jsparkSession\u001b[49m\u001b[43m.\u001b[49m\u001b[43msql\u001b[49m\u001b[43m(\u001b[49m\u001b[43msqlQuery\u001b[49m\u001b[43m,\u001b[49m\u001b[43m \u001b[49m\u001b[43mlitArgs\u001b[49m\u001b[43m)\u001b[49m, \u001b[38;5;28mself\u001b[39m)\n\u001b[32m   1632\u001b[39m \u001b[38;5;28;01mfinally\u001b[39;00m:\n\u001b[32m   1633\u001b[39m     \u001b[38;5;28;01mif\u001b[39;00m \u001b[38;5;28mlen\u001b[39m(kwargs) > \u001b[32m0\u001b[39m:\n",
      "\u001b[36mFile \u001b[39m\u001b[32m~/Desktop/code/big-data-tools/venv/lib/python3.12/site-packages/py4j/java_gateway.py:1322\u001b[39m, in \u001b[36mJavaMember.__call__\u001b[39m\u001b[34m(self, *args)\u001b[39m\n\u001b[32m   1316\u001b[39m command = proto.CALL_COMMAND_NAME +\\\n\u001b[32m   1317\u001b[39m     \u001b[38;5;28mself\u001b[39m.command_header +\\\n\u001b[32m   1318\u001b[39m     args_command +\\\n\u001b[32m   1319\u001b[39m     proto.END_COMMAND_PART\n\u001b[32m   1321\u001b[39m answer = \u001b[38;5;28mself\u001b[39m.gateway_client.send_command(command)\n\u001b[32m-> \u001b[39m\u001b[32m1322\u001b[39m return_value = \u001b[43mget_return_value\u001b[49m\u001b[43m(\u001b[49m\n\u001b[32m   1323\u001b[39m \u001b[43m    \u001b[49m\u001b[43manswer\u001b[49m\u001b[43m,\u001b[49m\u001b[43m \u001b[49m\u001b[38;5;28;43mself\u001b[39;49m\u001b[43m.\u001b[49m\u001b[43mgateway_client\u001b[49m\u001b[43m,\u001b[49m\u001b[43m \u001b[49m\u001b[38;5;28;43mself\u001b[39;49m\u001b[43m.\u001b[49m\u001b[43mtarget_id\u001b[49m\u001b[43m,\u001b[49m\u001b[43m \u001b[49m\u001b[38;5;28;43mself\u001b[39;49m\u001b[43m.\u001b[49m\u001b[43mname\u001b[49m\u001b[43m)\u001b[49m\n\u001b[32m   1325\u001b[39m \u001b[38;5;28;01mfor\u001b[39;00m temp_arg \u001b[38;5;129;01min\u001b[39;00m temp_args:\n\u001b[32m   1326\u001b[39m     \u001b[38;5;28;01mif\u001b[39;00m \u001b[38;5;28mhasattr\u001b[39m(temp_arg, \u001b[33m\"\u001b[39m\u001b[33m_detach\u001b[39m\u001b[33m\"\u001b[39m):\n",
      "\u001b[36mFile \u001b[39m\u001b[32m~/Desktop/code/big-data-tools/venv/lib/python3.12/site-packages/pyspark/errors/exceptions/captured.py:185\u001b[39m, in \u001b[36mcapture_sql_exception.<locals>.deco\u001b[39m\u001b[34m(*a, **kw)\u001b[39m\n\u001b[32m    181\u001b[39m converted = convert_exception(e.java_exception)\n\u001b[32m    182\u001b[39m \u001b[38;5;28;01mif\u001b[39;00m \u001b[38;5;129;01mnot\u001b[39;00m \u001b[38;5;28misinstance\u001b[39m(converted, UnknownException):\n\u001b[32m    183\u001b[39m     \u001b[38;5;66;03m# Hide where the exception came from that shows a non-Pythonic\u001b[39;00m\n\u001b[32m    184\u001b[39m     \u001b[38;5;66;03m# JVM exception message.\u001b[39;00m\n\u001b[32m--> \u001b[39m\u001b[32m185\u001b[39m     \u001b[38;5;28;01mraise\u001b[39;00m converted \u001b[38;5;28;01mfrom\u001b[39;00m\u001b[38;5;250m \u001b[39m\u001b[38;5;28;01mNone\u001b[39;00m\n\u001b[32m    186\u001b[39m \u001b[38;5;28;01melse\u001b[39;00m:\n\u001b[32m    187\u001b[39m     \u001b[38;5;28;01mraise\u001b[39;00m\n",
      "\u001b[31mAnalysisException\u001b[39m: [NOT_SUPPORTED_COMMAND_FOR_V2_TABLE] ANALYZE TABLE is not supported for v2 tables."
     ]
    }
   ],
   "source": [
    "spark.sql(\n",
    "    \"ANALYZE TABLE delta.`hdfs://localhost:9000/user/hadoopuser/raw/raw_lineitem` COMPUTE STATISTICS\"\n",
    ")"
   ]
  },
  {
   "cell_type": "markdown",
   "id": "5aff559e",
   "metadata": {},
   "source": [
    "# Stop Spark"
   ]
  },
  {
   "cell_type": "code",
   "execution_count": null,
   "id": "ce3272f3",
   "metadata": {},
   "outputs": [],
   "source": [
    "spark.stop()\n",
    "# sc._gateway.jvm.System.exit(0)"
   ]
  }
 ],
 "metadata": {
  "kernelspec": {
   "display_name": "venv",
   "language": "python",
   "name": "python3"
  },
  "language_info": {
   "codemirror_mode": {
    "name": "ipython",
    "version": 3
   },
   "file_extension": ".py",
   "mimetype": "text/x-python",
   "name": "python",
   "nbconvert_exporter": "python",
   "pygments_lexer": "ipython3",
   "version": "3.12.3"
  }
 },
 "nbformat": 4,
 "nbformat_minor": 5
}
